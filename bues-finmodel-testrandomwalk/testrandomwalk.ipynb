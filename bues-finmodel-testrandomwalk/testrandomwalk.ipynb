{
 "cells": [
  {
   "cell_type": "markdown",
   "metadata": {},
   "source": [
    "# Demo: test of the random walk hypothesis for a share\n",
    "\n",
    "The next section sets up the environment."
   ]
  },
  {
   "cell_type": "code",
   "execution_count": null,
   "metadata": {},
   "outputs": [],
   "source": [
    "!pip -q install yfinance\n",
    "!pip -q install matplotlib\n",
    "import yfinance as yf\n",
    "import matplotlib.pyplot as plt\n",
    "import pandas as pd"
   ]
  },
  {
   "cell_type": "markdown",
   "metadata": {},
   "source": [
    "The next section downloads some data."
   ]
  },
  {
   "cell_type": "code",
   "execution_count": null,
   "metadata": {},
   "outputs": [],
   "source": [
    "def download_financial_data(ticker):\n",
    "    data = yf.download(ticker, start=\"2023-01-01\", end=\"2024-01-01\")\n",
    "    daily_returns = data['Adj Close'].pct_change()\n",
    "    return daily_returns\n",
    "\n",
    "apple_returns = download_financial_data('META')"
   ]
  }
 ],
 "metadata": {
  "language_info": {
   "name": "python"
  }
 },
 "nbformat": 4,
 "nbformat_minor": 2
}
